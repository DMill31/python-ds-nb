{
 "cells": [
  {
   "cell_type": "markdown",
   "id": "7cfe07f9",
   "metadata": {},
   "source": [
    "# Dan Miller"
   ]
  },
  {
   "cell_type": "markdown",
   "id": "c0ef74f2",
   "metadata": {},
   "source": [
    "The following is Python code to create the following pattern:\n",
    "```\n",
    "*      *\n",
    "**    **\n",
    "***  ***\n",
    "********\n",
    "```"
   ]
  }
 ],
 "metadata": {
  "kernelspec": {
   "display_name": ".venv",
   "language": "python",
   "name": "python3"
  },
  "language_info": {
   "name": "python",
   "version": "3.13.1"
  }
 },
 "nbformat": 4,
 "nbformat_minor": 5
}

{
 "cells": [
  {
   "cell_type": "markdown",
   "id": "7cfe07f9",
   "metadata": {},
   "source": [
    "# Dan Miller"
   ]
  },
  {
   "cell_type": "markdown",
   "id": "c0ef74f2",
   "metadata": {},
   "source": [
    "The following is Python code to create the following pattern:\n",
    "```\n",
    "*      *\n",
    "**    **\n",
    "***  ***\n",
    "********\n",
    "```"
   ]
  },
  {
   "cell_type": "code",
   "execution_count": 3,
   "id": "cd10c702",
   "metadata": {},
   "outputs": [
    {
     "name": "stdout",
     "output_type": "stream",
     "text": [
      "*      *\n",
      "**    **\n",
      "***  ***\n",
      "********\n"
     ]
    }
   ],
   "source": [
    "rows = 4\n",
    "for i in range(rows):\n",
    "    # Print starting stars\n",
    "    for j in range(i + 1):\n",
    "        print(\"*\", end=\"\")\n",
    "    \n",
    "    # Print spaces\n",
    "    for j in range(2 * (rows - i - 1)):\n",
    "        print(\" \", end=\"\")\n",
    "    \n",
    "    # Print ending stars\n",
    "    for j in range(i + 1):\n",
    "        print(\"*\", end=\"\")\n",
    "    \n",
    "    # Move to the next line\n",
    "    print()"
   ]
  }
 ],
 "metadata": {
  "kernelspec": {
   "display_name": ".venv",
   "language": "python",
   "name": "python3"
  },
  "language_info": {
   "codemirror_mode": {
    "name": "ipython",
    "version": 3
   },
   "file_extension": ".py",
   "mimetype": "text/x-python",
   "name": "python",
   "nbconvert_exporter": "python",
   "pygments_lexer": "ipython3",
   "version": "3.13.1"
  }
 },
 "nbformat": 4,
 "nbformat_minor": 5
}
